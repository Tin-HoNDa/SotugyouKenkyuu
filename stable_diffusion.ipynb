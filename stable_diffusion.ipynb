{
 "cells": [
  {
   "attachments": {},
   "cell_type": "markdown",
   "metadata": {},
   "source": [
    "# **Stable Diffusion** 🎨\n",
    "*...using '🧨diffusers'*\n",
    "\n",
    "Stable Diffusionは、[CompVis](https://github.com/CompVis)、[Stability AI](https://stability.ai/)、[LAION](https://laion.ai/)の研究者やエンジニアが開発したtext-to-imageのdiffusion modelです。[LAION-5B](https://laion.ai/blog/laion-5b/)データベースのサブセットの512x512の画像で学習しています。このモデルは圧縮されたCLIP ViT-L/14テキストエンコーダーを使用し、文字入力からモデルを条件付けます。860MのUNetと123Mのテキストエンコーダを持つこのモデルは、比較的軽量で、多くの個人向けGPUで動作します。詳しくは[model card](https://huggingface.co/CompVis/stable-diffusion)をご覧ください。\n",
    "\n",
    "このノートブックでは、🤗Hugging Face[🧨Diffusers library](https://github.com/huggingface/diffusers)を使って、Stable Diffusionを使用する方法を紹介します。\n",
    "\n",
    "それでは始めてみましょう。"
   ]
  },
  {
   "attachments": {},
   "cell_type": "markdown",
   "metadata": {},
   "source": [
    "## 1. `StableDiffusionPipeline`の使い方\n",
    "\n",
    "StableDiffusionがどのように動作するのか説明する前に、少し動かしてみましょう🤗。\n",
    "\n",
    "このセクションでは、簡単にテキストから画像の推論をする方法をご紹介します。"
   ]
  },
  {
   "attachments": {},
   "cell_type": "markdown",
   "metadata": {},
   "source": [
    "### 前準備\n",
    "\n",
    "はじめに、このノートブックにGPUが使用されているか確認してください。推論がより速くなります。"
   ]
  },
  {
   "cell_type": "code",
   "execution_count": null,
   "metadata": {},
   "outputs": [],
   "source": [
    "!nvidia-smi"
   ]
  },
  {
   "attachments": {},
   "cell_type": "markdown",
   "metadata": {},
   "source": [
    "次に、`diffusers`、`scipy`、`ftfy`、`transformers`をインストールします。`accelerate`はロード時間の短縮に用いられます。"
   ]
  },
  {
   "cell_type": "code",
   "execution_count": null,
   "metadata": {},
   "outputs": [],
   "source": [
    "!python -m pip install --upgrade pip"
   ]
  },
  {
   "cell_type": "code",
   "execution_count": null,
   "metadata": {},
   "outputs": [],
   "source": [
    "!python -m pip install diffusers==0.11.1\n",
    "!python -m pip install transformers scipy ftfy accelerate"
   ]
  },
  {
   "attachments": {},
   "cell_type": "markdown",
   "metadata": {},
   "source": [
    "### Stable Diffusion Pipeline\n",
    "\n",
    "`StableDiffusionPipeline`はend-to-endの推論パイプラインで、テキストから画像を簡単に生成するために用いられます。\n",
    "\n",
    "まず、モデル中のすべてのコンポーネントの事前学習済みの重みをロードします。このノートブックでは、Stable Diffusion バージョン1.4([CompVis/stable-diffusion-v1-4](https://huggingface.co/CompVis/stable-diffusion-v1-4))を使用します。他にもバリエーションがあるので、ぜひお試しください。\n",
    "\n",
    "* [runwayml/stable-diffusion-v1-5](https://huggingface.co/runwayml/stable-diffusion-v1-5)\n",
    "* [stabilityai/stable-diffusion-2-1-base](https://huggingface.co/stabilityai/stable-diffusion-2-1-base)\n",
    "* [stabilityai/stable-diffusion-2-1](https://huggingface.co/stabilityai/stable-diffusion-2-1) このバージョンは768x768の画像を生成しますが、他のバージョンは512x512で動作します。\n",
    "\n",
    "モデルID[CompVis/stable-diffusion-v1-4](https://huggingface.co/CompVis/stable-diffusion-v1-4)に加えて、`from_pretrained`にも特定の`revision`と`torch_dtype`を渡しています。\n",
    "\n",
    "無料版のGoogle Colab上でもStable Diffusionを実行できるようにしたいので、班制度ブランチからウェイトをロードしています。[`fp16`](https://huggingface.co/CompVis/stable-diffusion-v1-4/tree/fp16)を使用し、`torch_dtype=torch.float16`を渡すことで、float16精度の重みを期待するようにディフューザーに伝えます。\n",
    "\n",
    "可能な限り高い精度を確保したい場合は、メモリ使用量が増えることを覚悟のうえで、`torch_dtype=torch.float16`を削除してください。"
   ]
  },
  {
   "cell_type": "code",
   "execution_count": null,
   "metadata": {},
   "outputs": [],
   "source": [
    "import torch\n",
    "from diffusers import StableDiffusionPipeline\n",
    "\n",
    "pipe = StableDiffusionPipeline.from_pretrained(\"CompVis/stable-diffusion-v1-4\", torch_dtype=torch.float16)"
   ]
  },
  {
   "attachments": {},
   "cell_type": "markdown",
   "metadata": {},
   "source": [
    "次に、パイプラインをGPUに移して、インターフェイスを高速化しましょう。"
   ]
  },
  {
   "cell_type": "code",
   "execution_count": null,
   "metadata": {},
   "outputs": [],
   "source": [
    "pipe = pipe.to(\"cuda\")"
   ]
  },
  {
   "attachments": {},
   "cell_type": "markdown",
   "metadata": {},
   "source": [
    "画像を生成するための準備が整いました。"
   ]
  },
  {
   "cell_type": "code",
   "execution_count": null,
   "metadata": {},
   "outputs": [],
   "source": [
    "prompt = \"a phoyograph of an astronaut riding a horse\"\n",
    "image = pipe(prompt).images[0]\n",
    "\n",
    "image.save(f\"astronaut_rides_horse.png\")\n",
    "\n",
    "image"
   ]
  },
  {
   "attachments": {},
   "cell_type": "markdown",
   "metadata": {},
   "source": [
    "上記のセルを複数回実行すると、毎回異なる画像が出力されます。出力が変化することが望ましくない場合、パイプラインにseed値を渡すことができます。同じseedを使うことで、同じ画像が出力されます。"
   ]
  },
  {
   "cell_type": "code",
   "execution_count": null,
   "metadata": {},
   "outputs": [],
   "source": [
    "import torch\n",
    "\n",
    "generator = torch.Generator(\"cuda\").manual_seed(1024)\n",
    "\n",
    "image = pipe(prompt, generator=generator).images[0]\n",
    "\n",
    "image"
   ]
  },
  {
   "attachments": {},
   "cell_type": "markdown",
   "metadata": {},
   "source": [
    "引数`num_inference_steps`を使って推論ステップ数を変更することができます。一般的に、ステップ数が多いほど結果はよくなります。Stable Diffusionは最新のモデルの1つであり、比較的少ないステップ数でもうまく機能するため、デフォルトの50を使用することをお勧めします。もしより速く結果を得たいのであれば、より小さな数字を指定しましょう。\n",
    "\n",
    "次のセルは、前と同じシードを使用していますが、より少ないステップ数です。馬の頭やヘルメットのような細部は、前の画像と比べて明確に表現されていないことに注意してください。"
   ]
  },
  {
   "cell_type": "code",
   "execution_count": null,
   "metadata": {},
   "outputs": [],
   "source": [
    "import torch\n",
    "\n",
    "generator = torch.Generator(\"cuda\").manual_seed(1024)\n",
    "\n",
    "image = pipe(prompt, num_inference_steps=15, generator=generator).images[0]\n",
    "\n",
    "image"
   ]
  },
  {
   "attachments": {},
   "cell_type": "markdown",
   "metadata": {},
   "source": [
    "パイプラインコールのもう一つのパラメータは`guidance_scale`です。これは、条件付信号（今回はテキスト）及び全体的なサンプルの品質への準拠を高めるための方法です。簡単に言うと、分類氏を使わないガイダンスは、よりプロンプトにマッチするように生成を強制します。`7`や`8.5`のような数字は良い結果をもたらしますが、非常に大きな数字を使用した場合、画像はよく見えるかもしれませんが、多様性に欠けることになります。\n",
    "\n",
    "このパラメータの技術的な詳細についてはこのノートブックの[最後のセクション](https://colab.research.google.com/drive/1ALXuCM5iNnJDNW5vqBm5lCtUQtZJHN2f?authuser=1#scrollTo=UZp-ynZLrS-S)で説明します。"
   ]
  },
  {
   "attachments": {},
   "cell_type": "markdown",
   "metadata": {},
   "source": [
    "同じプロンプトに対して複数の画像を生成するには、同じプロンプトを複数回繰り返したリストを使用するだけです。先ほど使った文字列の代わりに、このリストをパイプラインに送ります。"
   ]
  },
  {
   "attachments": {},
   "cell_type": "markdown",
   "metadata": {},
   "source": [
    "まず、関数のグリッドを表示するためのヘルパー関数を書いてみましょう。以下のセルを実行すると`image_grid`関数が作成されます。どのように行われているか興味がある方はコードを精読してください。"
   ]
  },
  {
   "cell_type": "code",
   "execution_count": null,
   "metadata": {},
   "outputs": [],
   "source": [
    "from PIL import Image\n",
    "\n",
    "def image_grid(imgs, rows, cols):\n",
    "    assert len(imgs) == rows * cols\n",
    "    \n",
    "    w, h = imgs[0].size\n",
    "    grid = Image.new('RGB', size=(cols * w, rows * h))\n",
    "    grid_w, grid_h = grid.size\n",
    "    \n",
    "    for i, img in enumerate(imgs):\n",
    "        grid.paste(img, box=(i % cols * w, i // cols * h))\n",
    "    return grid"
   ]
  },
  {
   "attachments": {},
   "cell_type": "markdown",
   "metadata": {},
   "source": [
    "これで、3つのプロンプトのリストでパイプラインを実行すれば、グリッド画像が生成できるようになりました。"
   ]
  },
  {
   "cell_type": "code",
   "execution_count": null,
   "metadata": {},
   "outputs": [],
   "source": [
    "num_images = 3\n",
    "prompt = [\"a photograph of an astronaut riding a horse\"] * num_images\n",
    "\n",
    "images = pipe(prompt).images\n",
    "\n",
    "grid = image_grid(images, rows=1, cols=3)\n",
    "grid"
   ]
  },
  {
   "attachments": {},
   "cell_type": "markdown",
   "metadata": {},
   "source": [
    "`n × m`の画像を出力するには次のようにします。"
   ]
  },
  {
   "cell_type": "code",
   "execution_count": null,
   "metadata": {},
   "outputs": [],
   "source": [
    "num_cols = 3\n",
    "num_rows = 4\n",
    "\n",
    "prompt = [\"a photograph of an astronaut riding a horse\"] * num_cols\n",
    "\n",
    "all_images = []\n",
    "for i in range(num_rows):\n",
    "    images = pipe(prompt).images\n",
    "    all_images.extend(images)\n",
    "\n",
    "grid = image_grid(all_images, rows=num_rows, cols=num_cols)\n",
    "grid"
   ]
  },
  {
   "attachments": {},
   "cell_type": "markdown",
   "metadata": {},
   "source": [
    "### 正方形でない画像の生成\n",
    "\n",
    "Stable Diffusionは、デフォルトで`512x512`ピクセルの画像を作成します。しかし、`height`や`width`の引数を使って、長方形の画像を作成することもできます。\n",
    "\n",
    "以下は、適切なサイズを選択するためのいくつかの推奨事項です。\n",
    "- `height`と`width`がともに`8`の倍数であることを確認してください。\n",
    "- 512を下回ると、低品質の画像になる可能性があります。\n",
    "- 縦横共に512を超えると、画像領域が繰り返されます（全体的なまとまりが失われます）。\n",
    "- 長方形の画像を作成するときは、1つの次元に`512`を、もう1つの次元にそれよりも大きな値を使用するのが効果的です。"
   ]
  },
  {
   "cell_type": "code",
   "execution_count": null,
   "metadata": {},
   "outputs": [],
   "source": [
    "prompt = \"a photograph of an astronaut riding a horse\"\n",
    "\n",
    "image = pipe(prompt, height=512, width=640).images[0]\n",
    "image"
   ]
  },
  {
   "attachments": {},
   "cell_type": "markdown",
   "metadata": {},
   "source": [
    "## 2. Stable Diffusionとは\n",
    "\n",
    "さて、Stable Diffusion👩‍🎓の論理的な部分について説明します。\n",
    "\n",
    "Stable Diffusionは、[High-Resolution Image Synthesis with Latent Diffusion Models](https://arxiv.org/abs/2112.10752)で提案された**Latent Diffusion**という特殊なDiffusionモデルに基づいています。"
   ]
  },
  {
   "attachments": {},
   "cell_type": "markdown",
   "metadata": {},
   "source": [
    "一般的なDiffusionモデルは、ランダムなガウシアンノイズを段階的に除去するように訓練された機械学習システムで、画像などの目的のサンプルに到達するために使用されます。より詳細な仕組みについては、こちらの[Colab](https://colab/research.google.com/github/huggingface/notebooks/blob/main/diffusers/diffusers_intro.ipynb)をご覧ください。\n",
    "\n",
    "Diffusionモデルは、画像データの生成において、最先端の結果を達成することが示されています。しかし、Diffusionモデルの欠点は、逆ノイズ処理に時間がかかることです。また、これらのモデルはピクセル空間で動作するため、多くのメモリを消費し、高解像度の画像を生成する場合には不当に高価になります。そのため、これらのモデルを訓練し、さらに推論に使用することは困難です。"
   ]
  },
  {
   "attachments": {},
   "cell_type": "markdown",
   "metadata": {},
   "source": [
    "\n",
    "\n",
    "<br>\n",
    "\n",
    "Latent Diffusionは、実際にピクセル空間を使用する代わりに、低次元の潜在空間上で拡散プロセスを適用することにより、メモリと計算の複雑さを軽減することができます。これが標準的なDiffusionモデルとLatent Diffusionモデルの主な違いです。**Latent Diffusionでは、モデルは画像の潜伏（圧縮）表現を生成するように訓練されます。**\n",
    "\n",
    "Latent Diffusionについては、3つの主なコンポーネントがあります。\n",
    "\n",
    "1. オートエンコーダ（VAE）\n",
    "2. [U-Net](https://colab.research.google.com/github/huggingface/notebooks/blob/main/diffusers/diffusers_intro.ipynb#scrollTo=wW8o1Wp0zRkq)\n",
    "3. テキストエンコーダ（[CLIP's Text Encoder](https://huggingface.co/docs/transformers/model_doc/clip#transformers.CLIPTextModel)など）"
   ]
  },
  {
   "attachments": {},
   "cell_type": "markdown",
   "metadata": {},
   "source": [
    "**1. オートエンコーダ (VAE)**\n",
    "\n",
    "VAEモデルはエンコーダとデコーダの二つの部分があります。エンコーダは画像を低次元の潜在表現に変換し、U-Netの入力として使用されます。デコーダは、逆に潜在表現を画像に変換します。\n",
    "\n",
    "LatentDiffusionでは、エンコーダは各ステップでより多くのノイズを適用する順拡散プロセスのために、画像の潜像表現を得るために使用されます。推論では、逆拡散処理で生成された潜在表現を、デコーダを用いて画像に戻します。後述するように、推論時に必要なのはVAEデコーダのみです。"
   ]
  },
  {
   "attachments": {},
   "cell_type": "markdown",
   "metadata": {},
   "source": [
    "**2. U-Net**\n",
    "\n",
    "U-NetはResNetブロックで構成されたエンコーダとデコーダでできています。\n",
    "エンコーダは画像を低解像度に圧縮し、デコーダは低解像度表現をノイズが除去された高解像度表現に復元します。\n",
    "具体的には、U-Netの出力は、ノイズの除去された画像を推論するために使用するノイズ残差を予測します。\n",
    "\n",
    "U-Netがダウンサンプリング中に重要な情報を失うのを防ぐため、通常、エンコーダのダウンサンプリングResNetとデコーダのアップサンプリングResNetの間にショートカットが接続されます。\n",
    "さらに、StableDiffusion U-Netは、相互アテンション層を介して、text-embeddingに出力を条件づけることができる。相互アテンション層は、U-Netのエンコーダとデコーダの両方に、通常ResNetブロックの間に追加されます。"
   ]
  },
  {
   "attachments": {},
   "cell_type": "markdown",
   "metadata": {},
   "source": [
    "**3. テキストエンコーダ**\n",
    "\n",
    "テキストエンコーダは、入力されたプロンプト、例えば「An astronout riding a horse」をU-Netが理解できるように変換する役割を担っています。これは通常、入力トークンシーケンスを潜在的なテキスト埋め込みシーケンスにマッピングする単純な変換器ベースのエンコーダです。\n",
    "\n",
    "[Imagen](https://imagen.research.google/)に影響されたStableDiffusionは、学習中にテキストエンコーダを訓練せず、単にCLIPの訓練済みテキストエンコーダ、[CLIPTextModel](https://huggingface.co/docs/transformers/model_doc/clip#transformers.CLIPTextModel)を使用しています。"
   ]
  },
  {
   "attachments": {},
   "cell_type": "markdown",
   "metadata": {},
   "source": [
    "**なぜLatentDiffusionは高速で効率的なのか**\n",
    "\n",
    "LatentDiffusionモデルのU-Netは低次元空間で動作するため、ピクセル空間のDiffusionモデルと比較してメモリや計算量を大幅に削減することができます。例えば、StableDiffusionで使用されるオートエンコーダは、縮小率が8であり、これは、形状が`(3, 512, 512)`の画像が潜像空間では`(3, 64, 64)`になり、`8 × 8 = 64`倍ものメモリを削減できることを意味しています。\n",
    "\n",
    "これが、16GBのColabGPUでも512x512の画像を高速に生成できる秘訣です。"
   ]
  },
  {
   "attachments": {},
   "cell_type": "markdown",
   "metadata": {},
   "source": [
    "**推論中のStableDiffusion**\n",
    "\n",
    "このように、推論的な流れを示すことで、推論においてモデルがどのように機能するのかを詳しくみていきましょう。"
   ]
  },
  {
   "attachments": {},
   "cell_type": "markdown",
   "metadata": {},
   "source": [
    "<p align=\"left\">\n",
    "<img src=\"https://raw.githubusercontent.com/patrickvonplaten/scientific_images/master/stable_diffusion.png\" alt=\"sd-pipeline\" width=\"500\">\n",
    "\n",
    "StableDiffusionモデルは、潜像的なseedとテキストプロンプトの両方を入力として受け取ります。潜在seedは$64 \\times 64$サイズのランダムな潜在表現を生成するために用いられ、テキストプロンプトはCLIPのテキストエンコーダによって$77 \\times 768$サイズのテキスト埋め込みに変換されます。\n",
    "\n",
    "次にU-Netは、テキスト埋め込みを条件としながら、ランダムな潜像表現を繰り返しノイズ除去します。U-Netの出力はノイズ残差であり、スケジューラアルゴリズムによってノイズ除去された潜像表現を計算するために使用されます。この計算には多くの異なるスケジューラアルゴリズムを使用することができ、それぞれに長所と短所があります。StableDiffusionでは、以下のいずれかを主に使用します。\n",
    "\n",
    "- [PNDM scheduler](https://github.com/huggingface/diffusers/blob/main/src/diffusers/schedulers/scheduling_pndm.py) (デフォルト).\n",
    "- [K-LMS scheduler](https://github.com/huggingface/diffusers/blob/main/src/diffusers/schedulers/scheduling_lms_discrete.py).\n",
    "- [Heun Discrete scheduler](https://github.com/huggingface/diffusers/blob/main/src/diffusers/schedulers/scheduling_heun_discrete).\n",
    "- [DPM Solver Multistep scheduler](https://github.com/huggingface/diffusers/blob/main/src/diffusers/schedulers/scheduling_dpmsolver_multistep.py).このスケジューラは、より少ないステップです触れた品質を実現することができます。デフォルトの50ステップではなく、25ステップで試してみてください。\n",
    "\n",
    "スケジューラアルゴリズムの機能に関する理論は、このノートブックの範囲外ですが、要するに、以前のノイズ表現とノイズ残差から、予測ノイズ除去画像表現を計算することを覚えておくと良いでしょう。より詳細な情報については、[Elucidating the Design Space of Diffusion-Based Generative Models](https://arxiv.org/abs/2206.00364)を参照してください。\n",
    "\n",
    "このノイズ除去処理を約50回繰り返すことで、より良い潜像表現を段階的に取得します。潜像表現は、変分オートエンコーダのデコーダ部によって復号化されます。"
   ]
  },
  {
   "attachments": {},
   "cell_type": "markdown",
   "metadata": {},
   "source": [
    "\n",
    "\n",
    "このように、「Latent Diffusion」と「Stable Diffusion」を簡単に紹介した後は、「🤗Hugging Face Diffusers」の高度な活用法を見ていきましょう!"
   ]
  },
  {
   "attachments": {},
   "cell_type": "markdown",
   "metadata": {},
   "source": [
    "## 3. `diffusers`を用いた独自の推論パイプラインの書き方\n",
    "\n",
    "最後に、`diffusers`を使ってカスタムディフュージョンパイプラインを作成する方法について紹介します。これは、システムの特定の機能をもう少し深く掘り下げたり、特定のコンポーネントを入れ替える可能性がある場合に非常に便利です。\n",
    "\n",
    "このセクションでは、異なるスケジューラ、即ち [今回のPR](https://github.com/huggingface/diffusers/pull/185#pullrequestreview-1074247365)で追加された[Katherine Crowson's](https://github.com/crowsonkb)K-LMSスケジューラでStable Diffusionを使用する方法を示します。"
   ]
  },
  {
   "attachments": {},
   "cell_type": "markdown",
   "metadata": {},
   "source": [
    "それでは、`StableDiffusionPipeline`を自分たちでどのように書いたか順を追ってみていきましょう。\n",
    "\n",
    "まず、関係する個々のモデルをロードすることから始めます。"
   ]
  },
  {
   "cell_type": "code",
   "execution_count": null,
   "metadata": {},
   "outputs": [],
   "source": [
    "import torch\n",
    "torch_device = \"cuda\" if torch.cuda.is_available() else \"cpu\""
   ]
  },
  {
   "attachments": {},
   "cell_type": "markdown",
   "metadata": {},
   "source": [
    "[訓練済みモデル](https://huggingface.co/CompVis/stable-diffusion-v1-3-diffusers/tree/main)には完全なdiffusionパイプラインをセットアップするために必要なすべてのコンポーネントが含まれています。これらはのコンポーネントは以下のフォルダに格納されています。\n",
    "\n",
    "- `text_encoder`：Stable DiffusionはCLIPを使用していますが、他のDiffusionモデルでは`BERT`等の他のエンコーダを使用することがあります。\n",
    "- `tokenizer`：これは`text_encoder`モデルが使用するものと一致する必要があります。\n",
    "- `scheduler`：訓練中に画像にノイズを徐々に追加していく際に使用するスケジューリングアルゴリズムです。\n",
    "- `unet`：入力の潜在的な表現を生成するために使用されるモデルです。\n",
    "- `vae`：潜在表現を実際の画像にデコードするために使用するオートエンコーダモジュール\n",
    "\n",
    "`from_pretrained`の引数`subfolder`を使って、保存されたフォルダを参照することでコンポーネントをロードすることができます。"
   ]
  },
  {
   "cell_type": "code",
   "execution_count": null,
   "metadata": {},
   "outputs": [],
   "source": [
    "from transformers import CLIPTextModel, CLIPTokenizer\n",
    "from diffusers import AutoencoderKL, UNet2DConditionModel, PNDMScheduler\n",
    "\n",
    "# 1. Load the autoencoder model which will be used to decode the latents into image space. \n",
    "vae = AutoencoderKL.from_pretrained(\"CompVis/stable-diffusion-v1-4\", subfolder=\"vae\")\n",
    "\n",
    "# 2. Load the tokenizer and text encoder to tokenize and encode the text. \n",
    "tokenizer = CLIPTokenizer.from_pretrained(\"openai/clip-vit-large-patch14\")\n",
    "text_encoder = CLIPTextModel.from_pretrained(\"openai/clip-vit-large-patch14\")\n",
    "\n",
    "# 3. The UNet model for generating the latents.\n",
    "unet = UNet2DConditionModel.from_pretrained(\"CompVis/stable-diffusion-v1-4\", subfolder=\"unet\")"
   ]
  },
  {
   "attachments": {},
   "cell_type": "markdown",
   "metadata": {},
   "source": [
    "次に予め用意されたスケジューラを読み込む代わりにK-LMSのスケジューラを使うようにします。"
   ]
  },
  {
   "cell_type": "code",
   "execution_count": null,
   "metadata": {},
   "outputs": [],
   "source": [
    "from diffusers import LMSDiscreteScheduler\n",
    "\n",
    "scheduler = LMSDiscreteScheduler.from_pretrained(\"CompVis/stable-diffusion-v1-4\", subfolder=\"scheduler\")"
   ]
  },
  {
   "attachments": {},
   "cell_type": "markdown",
   "metadata": {},
   "source": [
    "次にモデルをGPUに移動します。"
   ]
  },
  {
   "cell_type": "code",
   "execution_count": null,
   "metadata": {},
   "outputs": [],
   "source": [
    "vae = vae.to(torch_device)\n",
    "text_encoder = text_encoder.to(torch_device)\n",
    "unet = unet.to(torch_device) "
   ]
  },
  {
   "attachments": {},
   "cell_type": "markdown",
   "metadata": {},
   "source": [
    "ここで、画像生成に使用するパラメータを定義します。\n",
    "\n",
    "なお、`guidance_scale`は[Imagen paper](https://arxiv.org/pdf/2205.11487.pdf)の式(2)のガイダンス重み`w`に類似して定義されています。`guidance_scale==1`は、分類子を使わないガイダンスを行うことに相当します。ここでは、前回と同様に7.5としました。\n",
    "\n",
    "これまでの例とは対照的に、より明確な画像を得るために`num_inference_steps`を100に設定しています。"
   ]
  },
  {
   "cell_type": "code",
   "execution_count": null,
   "metadata": {},
   "outputs": [],
   "source": [
    "prompt = [\"a photograph of an astronaut riding a horse\"]\n",
    "\n",
    "height = 512                        # default height of Stable Diffusion\n",
    "width = 512                         # default width of Stable Diffusion\n",
    "\n",
    "num_inference_steps = 100            # Number of denoising steps\n",
    "\n",
    "guidance_scale = 7.5                # Scale for classifier-free guidance\n",
    "\n",
    "generator = torch.manual_seed(32)   # Seed generator to create the inital latent noise\n",
    "\n",
    "batch_size = 1"
   ]
  },
  {
   "attachments": {},
   "cell_type": "markdown",
   "metadata": {},
   "source": [
    "はじめに、プロンプトのtext_embeddingsを取得します。これらのembeddingsはUNetモデルの条件付けに使われます。"
   ]
  },
  {
   "cell_type": "code",
   "execution_count": null,
   "metadata": {},
   "outputs": [],
   "source": [
    "text_input = tokenizer(prompt, padding=\"max_length\", max_length=tokenizer.model_max_length, truncation=True, return_tensors=\"pt\")\n",
    "\n",
    "with torch.no_grad():\n",
    "    text_embeddings = text_encoder(text_input.input_ids.to(torch_device))[0]"
   ]
  },
  {
   "attachments": {},
   "cell_type": "markdown",
   "metadata": {},
   "source": [
    "また、分類木なしガイダンスのための無条件のテキスト埋め込みを取得します。これは、空のテキストに対する埋め込みだけです。これらは条件付きの`text_embeddings`(`batch_size`と`seq_length`)と同じ形状である必要があります。"
   ]
  },
  {
   "cell_type": "code",
   "execution_count": null,
   "metadata": {},
   "outputs": [],
   "source": [
    "max_length = text_input.input_ids.shape[-1]\n",
    "uncond_input = tokenizer(\n",
    "    [\"\"] * batch_size, padding=\"max_length\", max_length=max_length, return_tensors=\"pt\"\n",
    ")\n",
    "with torch.no_grad():\n",
    "    uncond_embeddings = text_encoder(uncond_input.input_ids.to(torch_device))[0]   "
   ]
  },
  {
   "attachments": {},
   "cell_type": "markdown",
   "metadata": {},
   "source": [
    "分類木を使わないガイダンスのためには、2つのフォワードパスを行う必要があります。一つは条件付き入力(`text_embeddings`)で、もう1つは無条件の埋め込み(`uncond_embeddings`)です。実際には、2回のフォワードパスを避けるために、両者を1つのバッチに連結することができます。"
   ]
  },
  {
   "cell_type": "code",
   "execution_count": null,
   "metadata": {},
   "outputs": [],
   "source": [
    "text_embeddings = torch.cat([uncond_embeddings, text_embeddings])"
   ]
  },
  {
   "attachments": {},
   "cell_type": "markdown",
   "metadata": {},
   "source": [
    "初期ランダムノイズを生成します。"
   ]
  },
  {
   "cell_type": "code",
   "execution_count": null,
   "metadata": {},
   "outputs": [],
   "source": [
    "latents = torch.randn(\n",
    "  (batch_size, unet.in_channels, height // 8, width // 8),\n",
    "    generator=generator,\n",
    ")\n",
    "latents = latents.to(torch_device)"
   ]
  },
  {
   "cell_type": "code",
   "execution_count": null,
   "metadata": {},
   "outputs": [],
   "source": [
    "latents.shape"
   ]
  },
  {
   "attachments": {},
   "cell_type": "markdown",
   "metadata": {},
   "source": [
    "クールな$64\\times64$が想定されます。この潜在表現（純粋なノイズ）を、モデルは後で`512x512`の画像に変換することになります。\n",
    "\n",
    "次に、選択した`num_inference_steps`でスケジューラを初期化します。これにより、ノイズ除去に使用される`sigmas`と正確な時間ステップ値が計算されます。"
   ]
  },
  {
   "cell_type": "code",
   "execution_count": null,
   "metadata": {},
   "outputs": [],
   "source": [
    "scheduler.set_timesteps(num_inference_steps)"
   ]
  },
  {
   "attachments": {},
   "cell_type": "markdown",
   "metadata": {},
   "source": [
    "K-LMSスケジューラは`latents`にその`sigma`値を掛ける必要があります。それではやってみましょう。"
   ]
  },
  {
   "cell_type": "code",
   "execution_count": null,
   "metadata": {},
   "outputs": [],
   "source": [
    "latents = latents * scheduler.init_noise_sigma"
   ]
  },
  {
   "attachments": {},
   "cell_type": "markdown",
   "metadata": {},
   "source": [
    "デノイジングループを描く準備が整いました。"
   ]
  },
  {
   "cell_type": "code",
   "execution_count": null,
   "metadata": {},
   "outputs": [],
   "source": [
    "from tqdm.auto import tqdm\n",
    "from torch import autocast\n",
    "\n",
    "for t in tqdm(scheduler.timesteps):\n",
    "    # expand the latents if we are doing classifier-free guidance to avoid doing two forward passes.\n",
    "    latent_model_input = torch.cat([latents] * 2)\n",
    "\n",
    "    latent_model_input = scheduler.scale_model_input(latent_model_input, t)\n",
    "\n",
    "    # predict the noise residual\n",
    "    with torch.no_grad():\n",
    "        noise_pred = unet(latent_model_input, t, encoder_hidden_states=text_embeddings).sample\n",
    "\n",
    "    # perform guidance\n",
    "    noise_pred_uncond, noise_pred_text = noise_pred.chunk(2)\n",
    "    noise_pred = noise_pred_uncond + guidance_scale * (noise_pred_text - noise_pred_uncond)\n",
    "\n",
    "    # compute the previous noisy sample x_t -> x_t-1\n",
    "    latents = scheduler.step(noise_pred, t, latents).prev_sample"
   ]
  },
  {
   "attachments": {},
   "cell_type": "markdown",
   "metadata": {},
   "source": [
    "ここで、`vae`を使って、生成された`latents`を画像に戻すデコードを行います。"
   ]
  },
  {
   "cell_type": "code",
   "execution_count": null,
   "metadata": {},
   "outputs": [],
   "source": [
    "# scale and decode the image latents with vae\n",
    "latents = 1 / 0.18215 * latents\n",
    "\n",
    "with torch.no_grad():\n",
    "    image = vae.decode(latents).sample"
   ]
  },
  {
   "attachments": {},
   "cell_type": "markdown",
   "metadata": {},
   "source": [
    "そして最後に、画像を表示したり保存したりできるように、PILに変換してみましょう。"
   ]
  },
  {
   "cell_type": "code",
   "execution_count": null,
   "metadata": {},
   "outputs": [],
   "source": [
    "image = (image / 2 + 0.5).clamp(0, 1)\n",
    "image = image.detach().cpu().permute(0, 2, 3, 1).numpy()\n",
    "images = (image * 255).round().astype(\"uint8\")\n",
    "pil_images = [Image.fromarray(image) for image in images]\n",
    "pil_images[0]"
   ]
  },
  {
   "attachments": {},
   "cell_type": "markdown",
   "metadata": {},
   "source": [
    "これで、独自のパイプラインを構築したり、diffuserのコンポーネントを好きなように使用するためのすべてのピースが揃いました🔥。"
   ]
  }
 ],
 "metadata": {
  "kernelspec": {
   "display_name": "Python 3",
   "language": "python",
   "name": "python3"
  },
  "language_info": {
   "codemirror_mode": {
    "name": "ipython",
    "version": 3
   },
   "file_extension": ".py",
   "mimetype": "text/x-python",
   "name": "python",
   "nbconvert_exporter": "python",
   "pygments_lexer": "ipython3",
   "version": "3.10.6"
  },
  "orig_nbformat": 4
 },
 "nbformat": 4,
 "nbformat_minor": 2
}
