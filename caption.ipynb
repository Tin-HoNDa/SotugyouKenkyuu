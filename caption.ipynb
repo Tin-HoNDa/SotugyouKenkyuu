{
 "cells": [
  {
   "cell_type": "markdown",
   "metadata": {},
   "source": [
    "## for image"
   ]
  },
  {
   "cell_type": "code",
   "execution_count": 1,
   "metadata": {},
   "outputs": [],
   "source": [
    "from transformers import VisionEncoderDecoderModel, ViTImageProcessor, AutoTokenizer, AutoModel, CLIPModel\n",
    "import torch\n",
    "from torch import Tensor\n",
    "import torch.nn.functional as F\n",
    "from PIL import Image\n",
    "import os\n",
    "from tqdm import tqdm\n",
    "from sentence_transformers import SentenceTransformer\n",
    "import pandas as pd\n",
    "import matplotlib.pyplot as plt\n",
    "import numpy as np\n",
    "import cv2"
   ]
  },
  {
   "cell_type": "code",
   "execution_count": 2,
   "metadata": {},
   "outputs": [
    {
     "name": "stderr",
     "output_type": "stream",
     "text": [
      "Some weights of the model checkpoint at nlpconnect/vit-gpt2-image-captioning were not used when initializing VisionEncoderDecoderModel: ['decoder.transformer.h.11.attn.bias', 'decoder.transformer.h.4.attn.bias', 'decoder.transformer.h.0.attn.masked_bias', 'decoder.transformer.h.6.crossattention.bias', 'decoder.transformer.h.5.attn.bias', 'decoder.transformer.h.2.crossattention.bias', 'decoder.transformer.h.5.attn.masked_bias', 'decoder.transformer.h.11.attn.masked_bias', 'decoder.transformer.h.0.attn.bias', 'decoder.transformer.h.7.attn.masked_bias', 'decoder.transformer.h.1.attn.bias', 'decoder.transformer.h.9.attn.masked_bias', 'decoder.transformer.h.9.attn.bias', 'decoder.transformer.h.1.crossattention.bias', 'decoder.transformer.h.3.crossattention.masked_bias', 'decoder.transformer.h.7.crossattention.bias', 'decoder.transformer.h.10.attn.masked_bias', 'decoder.transformer.h.6.crossattention.masked_bias', 'decoder.transformer.h.2.attn.masked_bias', 'decoder.transformer.h.6.attn.masked_bias', 'decoder.transformer.h.11.crossattention.masked_bias', 'decoder.transformer.h.2.crossattention.masked_bias', 'decoder.transformer.h.4.crossattention.masked_bias', 'decoder.transformer.h.5.crossattention.bias', 'decoder.transformer.h.0.crossattention.masked_bias', 'decoder.transformer.h.7.crossattention.masked_bias', 'decoder.transformer.h.9.crossattention.masked_bias', 'decoder.transformer.h.5.crossattention.masked_bias', 'decoder.transformer.h.3.attn.masked_bias', 'decoder.transformer.h.8.attn.masked_bias', 'decoder.transformer.h.9.crossattention.bias', 'decoder.transformer.h.10.crossattention.bias', 'decoder.transformer.h.1.crossattention.masked_bias', 'decoder.transformer.h.7.attn.bias', 'decoder.transformer.h.8.crossattention.bias', 'decoder.transformer.h.10.attn.bias', 'decoder.transformer.h.8.attn.bias', 'decoder.transformer.h.8.crossattention.masked_bias', 'decoder.transformer.h.11.crossattention.bias', 'decoder.transformer.h.3.crossattention.bias', 'decoder.transformer.h.1.attn.masked_bias', 'decoder.transformer.h.4.attn.masked_bias', 'decoder.transformer.h.3.attn.bias', 'decoder.transformer.h.4.crossattention.bias', 'decoder.transformer.h.0.crossattention.bias', 'decoder.transformer.h.10.crossattention.masked_bias', 'decoder.transformer.h.2.attn.bias', 'decoder.transformer.h.6.attn.bias']\n",
      "- This IS expected if you are initializing VisionEncoderDecoderModel from the checkpoint of a model trained on another task or with another architecture (e.g. initializing a BertForSequenceClassification model from a BertForPreTraining model).\n",
      "- This IS NOT expected if you are initializing VisionEncoderDecoderModel from the checkpoint of a model that you expect to be exactly identical (initializing a BertForSequenceClassification model from a BertForSequenceClassification model).\n"
     ]
    }
   ],
   "source": [
    "model = VisionEncoderDecoderModel.from_pretrained(\"nlpconnect/vit-gpt2-image-captioning\")\n",
    "feature_extractor = ViTImageProcessor.from_pretrained(\"nlpconnect/vit-gpt2-image-captioning\")\n",
    "tokenizer = AutoTokenizer.from_pretrained(\"nlpconnect/vit-gpt2-image-captioning\")\n",
    "\n",
    "device = torch.device(\"cuda\" if torch.cuda.is_available() else \"cpu\")\n",
    "model.to(device)\n",
    "\n",
    "max_length = 16\n",
    "num_beams = 4\n",
    "gen_kwargs = {\"max_length\": max_length, \"num_beams\": num_beams}"
   ]
  },
  {
   "cell_type": "code",
   "execution_count": 3,
   "metadata": {},
   "outputs": [],
   "source": [
    "def min_max_normalization(l):\n",
    "    #l_min = min(l)\n",
    "    #l_max = max(l)\n",
    "    l_min = 1\n",
    "    l_max = 5\n",
    "    return [((i - l_min) / (l_max - l_min)) for i in l]\n",
    "\n",
    "def predict_step(image_paths):\n",
    "    images = []\n",
    "    for image_path in image_paths:\n",
    "        i_image = Image.open(image_path)\n",
    "        if i_image.mode != \"RGB\":\n",
    "            i_image = i_image.convert(mode=\"RGB\")\n",
    "\n",
    "        images.append(i_image)\n",
    "\n",
    "    pixel_values = feature_extractor(images=images, return_tensors=\"pt\").pixel_values\n",
    "    pixel_values = pixel_values.to(device)\n",
    "\n",
    "    output_ids = model.generate(pixel_values, **gen_kwargs)\n",
    "\n",
    "    preds = tokenizer.batch_decode(output_ids, skip_special_tokens=True)\n",
    "    preds = [pred.strip() for pred in preds]\n",
    "    return preds\n",
    "\n",
    "def read_text_file(file_path):\n",
    "    with open(file_path, 'r') as f:\n",
    "        return f.read().strip()\n",
    "\n",
    "def average_pool(last_hidden_states: Tensor,attention_mask: Tensor) -> Tensor:\n",
    "    last_hidden = last_hidden_states.masked_fill(~attention_mask[..., None].bool(), 0.0)\n",
    "    return last_hidden.sum(dim=1) / attention_mask.sum(dim=1)[..., None]"
   ]
  },
  {
   "cell_type": "code",
   "execution_count": 4,
   "metadata": {},
   "outputs": [],
   "source": [
    "dir_videos = \"splitted/enquete/\"\n",
    "dir_prompts = \"./アンケート/prompts/\"\n",
    "\n",
    "video_paths = [os.path.join(dir_videos, x) for x in os.listdir(dir_videos)]\n",
    "prompt_paths = [os.path.join(dir_prompts, x) for x in os.listdir(dir_prompts)]"
   ]
  },
  {
   "cell_type": "code",
   "execution_count": 5,
   "metadata": {},
   "outputs": [
    {
     "name": "stdout",
     "output_type": "stream",
     "text": [
      "test_num:496\n"
     ]
    },
    {
     "name": "stderr",
     "output_type": "stream",
     "text": [
      "100%|██████████| 496/496 [19:02<00:00,  2.30s/it]\n"
     ]
    }
   ],
   "source": [
    "sequences = []\n",
    "\n",
    "test_num = len(video_paths)\n",
    "print(f\"test_num:{test_num}\")\n",
    "\n",
    "for i in tqdm(range(len(video_paths))):\n",
    "    video_path = video_paths[i]\n",
    "    sequence = predict_step([video_path])\n",
    "    sequences.append(sequence[0])"
   ]
  },
  {
   "cell_type": "code",
   "execution_count": 6,
   "metadata": {},
   "outputs": [],
   "source": [
    "device = torch.device(\"cuda\" if torch.cuda.is_available() else \"cpu\")\n",
    "\n",
    "model = SentenceTransformer(\"intfloat/multilingual-e5-base\")\n",
    "tokenizer = AutoTokenizer.from_pretrained('intfloat/multilingual-e5-base')\n",
    "model = AutoModel.from_pretrained('intfloat/multilingual-e5-base').to(device)"
   ]
  },
  {
   "cell_type": "code",
   "execution_count": 7,
   "metadata": {},
   "outputs": [
    {
     "name": "stderr",
     "output_type": "stream",
     "text": [
      "100%|██████████| 31/31 [00:41<00:00,  1.35s/it]\n"
     ]
    }
   ],
   "source": [
    "min_outputs = []\n",
    "#max_outputs = []\n",
    "#mean_outputs = []\n",
    "\n",
    "min_captions = []\n",
    "\n",
    "for i in tqdm(range(len(prompt_paths))):\n",
    "    prompt_path = prompt_paths[i]\n",
    "    scores = []\n",
    "\n",
    "    for j in range(16):\n",
    "        sequence = sequences[i * 16 + j]\n",
    "\n",
    "        sequence = 'query: ' + str(sequence)\n",
    "        text = 'passage: ' + str(read_text_file(prompt_path))\n",
    "\n",
    "        input_texts = [sequence, sequence, text, text]\n",
    "        batch_dict = tokenizer(input_texts, max_length=512, padding=True, truncation=True, return_tensors='pt')\n",
    "        output = model(**batch_dict)\n",
    "        embeddings = average_pool(output.last_hidden_state, batch_dict['attention_mask'])\n",
    "        embeddings = F.normalize(embeddings, p=2, dim=1)\n",
    "        output = (embeddings[:2] @ embeddings[2:].T)\n",
    "\n",
    "        output = output[0][0]\n",
    "        output = output.detach().numpy()\n",
    "        scores.append(output)\n",
    "    #mean_outputs.append(sum(scores) / len(scores))\n",
    "    #max_outputs.append(max(scores))\n",
    "    min_outputs.append(min(scores))\n",
    "    min_captions.append(scores.index(min(scores)))"
   ]
  },
  {
   "cell_type": "code",
   "execution_count": 12,
   "metadata": {},
   "outputs": [
    {
     "name": "stdout",
     "output_type": "stream",
     "text": [
      "1:a woman wearing a clown mask and holding a cell phone:0.7296301126480103\n",
      "2:a horse statue on the side of a road:0.7225256562232971\n",
      "3:a red and white water fountain with a red and white clock on it:0.7212255597114563\n",
      "4:a woman with red hair and red eyes:0.7754348516464233\n",
      "5:a herd of sheep standing on top of a dirt field:0.7721688747406006\n",
      "6:three swans are swimming in the water near a body of water:0.8653014898300171\n",
      "7:a statue of a man and a horse on a beach:0.7565993666648865\n",
      "8:a beautiful young woman in a pink dress posing for a picture:0.7355852127075195\n",
      "9:a table topped with plates of cake and flowers:0.7873200178146362\n",
      "10:a train on a train track near a bridge:0.8416134119033813\n",
      "11:a man in a black and white photo:0.7619758248329163\n",
      "12:a woman sitting on a bench next to a painting:0.7826555967330933\n",
      "13:a woman standing on a sidewalk holding a tennis racquet:0.8046223521232605\n",
      "14:a woman sitting on the grass with an umbrella:0.7642844915390015\n",
      "15:a blue and white bird sitting on top of a tree branch:0.7494968771934509\n",
      "16:a white truck parked in a grassy field next to a white car:0.8326575756072998\n",
      "17:a large building with a clock tower on top of it:0.7818746566772461\n",
      "18:three different types of vegetables on a cutting board:0.782238245010376\n",
      "19:a large white boat in the middle of the ocean:0.780438244342804\n",
      "20:a large building with a large clock on it:0.7655860185623169\n",
      "21:a figurine of a cow with a bow on its head:0.7844208478927612\n",
      "22:two girls are standing in the street with skateboards:0.7329587936401367\n",
      "23:a man with a beard and a hat:0.7768372297286987\n",
      "24:a herd of sheep standing on top of a lush green field:0.7921801805496216\n",
      "25:a man riding on the back of a brown horse:0.7488920092582703\n",
      "26:a person walking on a beach with a surfboard:0.7388292551040649\n",
      "27:a motorcycle parked on the side of a road:0.8338789343833923\n",
      "28:a woman wearing glasses and a scarf:0.7703723907470703\n",
      "29:a bridge over a river with a train on it:0.7456738948822021\n",
      "30:a herd of sheep standing on top of a lush green field:0.7373051643371582\n",
      "31:a man in a suit and tie standing next to a cartoon character:0.7934913635253906\n",
      "comparing finished.\n",
      "1:2.3333333333333335\n",
      "2:3.0476190476190474\n",
      "3:4.095238095238095\n",
      "4:2.0476190476190474\n",
      "5:3.9523809523809526\n",
      "6:2.619047619047619\n",
      "7:3.9523809523809526\n",
      "8:4.142857142857143\n",
      "9:3.619047619047619\n",
      "10:1.5714285714285714\n",
      "11:4.095238095238095\n",
      "12:4.380952380952381\n",
      "13:1.1904761904761905\n",
      "14:2.8095238095238093\n",
      "15:3.619047619047619\n",
      "16:3.4285714285714284\n",
      "17:4.095238095238095\n",
      "18:2.6666666666666665\n",
      "19:2.238095238095238\n",
      "20:3.9047619047619047\n",
      "21:4.285714285714286\n",
      "22:4.523809523809524\n",
      "23:4.285714285714286\n",
      "24:2.6666666666666665\n",
      "25:3.761904761904762\n",
      "26:4.380952380952381\n",
      "27:3.0476190476190474\n",
      "28:3.8095238095238093\n",
      "29:3.857142857142857\n",
      "30:2.619047619047619\n",
      "31:4.523809523809524\n",
      "Final average score\n",
      "min: 0.7731636935664762, Total videos: 31\n",
      "Spearman's : -0.2654422617007622\n",
      "Kendall's : -0.17846762717933132\n",
      "Spearman's : -0.2654422617007622\n",
      "Kendall's : -0.17846762717933132\n"
     ]
    }
   ],
   "source": [
    "#print(\"mean\")\n",
    "#for i in range(len(prompt_paths)):\n",
    "#    print(f\"{i + 1}:\")\n",
    "#    for j in range(16):\n",
    "#        print(sequences[i * 16 + j])\n",
    "#    print(f\"score:{mean_outputs[i]}\")\n",
    "#print(\"max\")\n",
    "#for i in range(len(prompt_paths)):\n",
    "#    print(f\"{i + 1}:\")\n",
    "#    for j in range(16):\n",
    "#        print(sequences[i * 16 + j])\n",
    "#    print(f\"score:{max_outputs[i]}\")\n",
    "#print(\"min\")\n",
    "#for i in range(len(prompt_paths)):\n",
    "#    print(f\"{i + 1}:\")\n",
    "#    for j in range(16):\n",
    "#        print(sequences[i * 16 + j])\n",
    "#    print(f\"score:{min_outputs[i]}\")\n",
    "\n",
    "for i in range(31):\n",
    "    print(f\"{i+1}:{sequences[i*16+min_captions[i]]}:{min_outputs[i]}\")\n",
    "\n",
    "print(\"comparing finished.\")\n",
    "\n",
    "csv = pd.read_csv(\"./Ground_Truth.csv\")\n",
    "ground_score = []\n",
    "\n",
    "for i in range(len(prompt_paths)):\n",
    "    index = 'q' + str(3 * i + 2)\n",
    "    ground_score.append(csv[index].mean())\n",
    "    print(f\"{i+1}:{csv[index].mean()}\")\n",
    "\n",
    "ground_score = min_max_normalization(ground_score)\n",
    "\n",
    "print(\"Final average score\")\n",
    "#print(f\"mean: {sum(mean_outputs)/len(mean_outputs)}, Total videos: {len(mean_outputs)}\")\n",
    "#S_scores = pd.Series(mean_outputs)\n",
    "#S_ground_score = pd.Series(ground_score)\n",
    "#print(f\"Spearman's : {S_scores.corr(S_ground_score, method='spearman')}\")\n",
    "#print(f\"Kendall's : {S_scores.corr(S_ground_score, method='kendall')}\")\n",
    "#print(f\"Spearman's : {S_ground_score.corr(S_scores, method='spearman')}\")\n",
    "#print(f\"Kendall's : {S_ground_score.corr(S_scores, method='kendall')}\")\n",
    "\n",
    "#print(f\"max: {sum(max_outputs)/len(max_outputs)}, Total videos: {len(max_outputs)}\")\n",
    "#S_scores = pd.Series(max_outputs)\n",
    "#S_ground_score = pd.Series(ground_score)\n",
    "#print(f\"Spearman's : {S_scores.corr(S_ground_score, method='spearman')}\")\n",
    "#print(f\"Kendall's : {S_scores.corr(S_ground_score, method='kendall')}\")\n",
    "#print(f\"Spearman's : {S_ground_score.corr(S_scores, method='spearman')}\")\n",
    "#print(f\"Kendall's : {S_ground_score.corr(S_scores, method='kendall')}\")\n",
    "\n",
    "print(f\"min: {sum(min_outputs)/len(min_outputs)}, Total videos: {len(min_outputs)}\")\n",
    "S_scores = pd.Series(min_outputs)\n",
    "S_ground_score = pd.Series(ground_score)\n",
    "print(f\"Spearman's : {S_scores.corr(S_ground_score, method='spearman')}\")\n",
    "print(f\"Kendall's : {S_scores.corr(S_ground_score, method='kendall')}\")\n",
    "print(f\"Spearman's : {S_ground_score.corr(S_scores, method='spearman')}\")\n",
    "print(f\"Kendall's : {S_ground_score.corr(S_scores, method='kendall')}\")"
   ]
  },
  {
   "cell_type": "code",
   "execution_count": null,
   "metadata": {},
   "outputs": [],
   "source": [
    "plt.scatter(ground_score, mean_outputs)\n",
    "plt.plot(ground_score, np.poly1d(np.polyfit(ground_score, mean_outputs, 1))(ground_score))\n",
    "plt.xlim(0, 1)\n",
    "plt.ylim(0, 1)\n",
    "plt.show()"
   ]
  },
  {
   "cell_type": "code",
   "execution_count": null,
   "metadata": {},
   "outputs": [],
   "source": [
    "plt.scatter(ground_score, max_outputs)\n",
    "plt.plot(ground_score, np.poly1d(np.polyfit(ground_score, max_outputs, 1))(ground_score))\n",
    "plt.xlim(0, 1)\n",
    "plt.ylim(0, 1)\n",
    "plt.show()"
   ]
  },
  {
   "cell_type": "code",
   "execution_count": 9,
   "metadata": {},
   "outputs": [
    {
     "data": {
      "image/png": "[encoded data removed]",
      "text/plain": [
       "<Figure size 640x480 with 1 Axes>"
      ]
     },
     "metadata": {},
     "output_type": "display_data"
    }
   ],
   "source": [
    "plt.scatter(ground_score, min_outputs)\n",
    "plt.plot(ground_score, np.poly1d(np.polyfit(ground_score, min_outputs, 1))(ground_score))\n",
    "plt.xlim(0, 1)\n",
    "plt.ylim(0, 1)\n",
    "plt.show()"
   ]
  },
  {
   "cell_type": "markdown",
   "metadata": {},
   "source": [
    "## for video"
   ]
  },
  {
   "cell_type": "code",
   "execution_count": null,
   "metadata": {},
   "outputs": [],
   "source": [
    "model = VisionEncoderDecoderModel.from_pretrained(\"nlpconnect/vit-gpt2-image-captioning\")\n",
    "feature_extractor = ViTImageProcessor.from_pretrained(\"nlpconnect/vit-gpt2-image-captioning\")\n",
    "tokenizer = AutoTokenizer.from_pretrained(\"nlpconnect/vit-gpt2-image-captioning\")\n",
    "\n",
    "device = torch.device(\"cuda\" if torch.cuda.is_available() else \"cpu\")\n",
    "model.to(device)\n",
    "\n",
    "max_length = 16\n",
    "num_beams = 4\n",
    "gen_kwargs = {\"max_length\": max_length, \"num_beams\": num_beams}"
   ]
  },
  {
   "cell_type": "code",
   "execution_count": null,
   "metadata": {},
   "outputs": [],
   "source": [
    "dir_videos = \"./アンケート/videos/\"\n",
    "video_paths = [os.path.join(dir_videos, x) for x in os.listdir(dir_videos)]"
   ]
  },
  {
   "cell_type": "code",
   "execution_count": null,
   "metadata": {},
   "outputs": [],
   "source": [
    "sequences = []\n",
    "\n",
    "test_num = len(video_paths)\n",
    "print(f\"test_num:{test_num}\")\n",
    "\n",
    "for i in tqdm(range(len(video_paths))):\n",
    "    video_path = video_paths[i]\n",
    "    sequence = predict_step([video_path])\n",
    "    sequences.append(sequence[0])"
   ]
  },
  {
   "cell_type": "code",
   "execution_count": null,
   "metadata": {},
   "outputs": [],
   "source": [
    "model = SentenceTransformer('sentence-transformers/all-mpnet-base-v2')\n",
    "tokenizer = AutoTokenizer.from_pretrained('sentence-transformers/all-mpnet-base-v2')\n",
    "model = AutoModel.from_pretrained('sentence-transformers/all-mpnet-base-v2')"
   ]
  },
  {
   "cell_type": "code",
   "execution_count": null,
   "metadata": {},
   "outputs": [],
   "source": [
    "outputs = []\n",
    "\n",
    "for i in tqdm(range(len(video_paths))):\n",
    "    prompt_path = prompt_paths[i]\n",
    "    sequence = sequences[i]\n",
    "\n",
    "    sequence = 'query: ' + str(sequence)\n",
    "    text = 'passage: ' + str(read_text_file(prompt_path))\n",
    "\n",
    "    input_texts = [sequence, sequence, text, text]\n",
    "    batch_dict = tokenizer(input_texts, max_length=512, padding=True, truncation=True, return_tensors='pt')\n",
    "    output = model(**batch_dict)\n",
    "    embeddings = average_pool(output.last_hidden_state, batch_dict['attention_mask'])\n",
    "    embeddings = F.normalize(embeddings, p=2, dim=1)\n",
    "    scores = (embeddings[:2] @ embeddings[2:].T)\n",
    "    output = scores[0][0]\n",
    "    output = output.detach().numpy()\n",
    "    outputs.append(output)\n",
    "\n",
    "for i in range(len(prompt_paths)):\n",
    "    print(f\"{i + 1}:{sequences[i]}, score:{outputs[i]}\")"
   ]
  },
  {
   "cell_type": "code",
   "execution_count": null,
   "metadata": {},
   "outputs": [],
   "source": [
    "print(f\"mean: {sum(outputs)/len(outputs)}, Total videos: {len(outputs)}\")\n",
    "S_scores = pd.Series(outputs)\n",
    "S_ground_score = pd.Series(ground_score)\n",
    "print(f\"Spearman's : {S_scores.corr(S_ground_score, method='spearman')}\")\n",
    "print(f\"Kendall's : {S_scores.corr(S_ground_score, method='kendall')}\")"
   ]
  },
  {
   "cell_type": "code",
   "execution_count": null,
   "metadata": {},
   "outputs": [],
   "source": [
    "plt.scatter(ground_score, outputs)\n",
    "plt.plot(ground_score, np.poly1d(np.polyfit(ground_score, outputs, 1))(ground_score))\n",
    "plt.xlim(0, 1)\n",
    "plt.ylim(0, 1)\n",
    "plt.show()"
   ]
  },
  {
   "cell_type": "code",
   "execution_count": null,
   "metadata": {},
   "outputs": [],
   "source": [
    "def calculate_clip_score(video_path, text, model, tokenizer):\n",
    "    # Load the video\n",
    "    cap = cv2.VideoCapture(video_path)\n",
    "\n",
    "    # Extract frames from the video\n",
    "    frames = []\n",
    "\n",
    "    while cap.isOpened():\n",
    "        ret, frame = cap.read()\n",
    "        if not ret:\n",
    "            break\n",
    "        frame = cv2.cvtColor(frame, cv2.COLOR_BGR2RGB)\n",
    "        resized_frame = cv2.resize(frame,(224,224))  # Resize the frame to match the expected input size\n",
    "        frames.append(resized_frame)\n",
    "\n",
    "    # Convert numpy arrays to tensors, change dtype to float, and resize frames\n",
    "    tensor_frames = [torch.from_numpy(frame).permute(2, 0, 1).float() for frame in frames]\n",
    "\n",
    "    # Initialize an empty tensor to store the concatenated features\n",
    "    concatenated_features = torch.tensor([], device=device)\n",
    "\n",
    "    # Generate embeddings for each frame and concatenate the features\n",
    "    with torch.no_grad():\n",
    "        for frame in tensor_frames:\n",
    "            frame_input = frame.unsqueeze(0).to(device)  # Add batch dimension and move the frame to the device\n",
    "            frame_features = model.get_image_features(frame_input)\n",
    "            concatenated_features = torch.cat((concatenated_features, frame_features), dim=0)\n",
    "\n",
    "    # Tokenize the text\n",
    "    text_tokens = tokenizer(text, return_tensors=\"pt\", padding=True, truncation=True, max_length=77)\n",
    "\n",
    "    # Convert the tokenized text to a tensor and move it to the device\n",
    "    text_input = text_tokens[\"input_ids\"].to(device)\n",
    "\n",
    "    # Generate text embeddings\n",
    "    with torch.no_grad():\n",
    "        text_features = model.get_text_features(text_input)\n",
    "\n",
    "    # Calculate the cosine similarity scores\n",
    "    concatenated_features = concatenated_features / concatenated_features.norm(p=2, dim=-1, keepdim=True)\n",
    "    text_features = text_features / text_features.norm(p=2, dim=-1, keepdim=True)\n",
    "    clip_score_frames = concatenated_features @ text_features.T\n",
    "\n",
    "    # Calculate the average CLIP score across all frames, reflects temporal consistency\n",
    "    clip_score_frames_avg = clip_score_frames.mean().item()\n",
    "\n",
    "    return clip_score_frames_avg"
   ]
  },
  {
   "cell_type": "code",
   "execution_count": null,
   "metadata": {},
   "outputs": [],
   "source": [
    "dir_videos = \"./アンケート/videos/\"\n",
    "dir_prompts =  \"./アンケート/prompts/\"\n",
    "\n",
    "video_paths = [os.path.join(dir_videos, x) for x in os.listdir(dir_videos)]\n",
    "prompt_paths = [os.path.join(dir_prompts, os.path.splitext(os.path.basename(x))[0]+'.txt') for x in video_paths]"
   ]
  },
  {
   "cell_type": "code",
   "execution_count": null,
   "metadata": {},
   "outputs": [],
   "source": [
    "device = \"cuda\" if torch.cuda.is_available() else \"cpu\"\n",
    "\n",
    "clip_model = CLIPModel.from_pretrained(\"./EvalCrafter/Evalcrafter/checkpoints/clip-vit-base-patch32\").to(device)\n",
    "clip_tokenizer = AutoTokenizer.from_pretrained(\"./EvalCrafter/Evalcrafter/checkpoints/clip-vit-base-patch32\")"
   ]
  },
  {
   "cell_type": "code",
   "execution_count": null,
   "metadata": {},
   "outputs": [],
   "source": [
    "CLIPscores = []\n",
    "\n",
    "test_num = len(video_paths)\n",
    "for i in tqdm(range(len(video_paths))):\n",
    "    count = 0\n",
    "    video_path = video_paths[i]\n",
    "    prompt_path = prompt_paths[i]\n",
    "    text = read_text_file(prompt_path)\n",
    "    score = calculate_clip_score(video_path, text, clip_model, clip_tokenizer)\n",
    "        # logging.info(f\"Vid: {os.path.basename(video_path)}, Pro: {os.path.basename(prompt_path)}, Current clip_score: {score}, Current max clip_score: {m_score}\")\n",
    "\n",
    "    CLIPscores.append(score)\n",
    "average_score = sum(CLIPscores) / len(CLIPscores)"
   ]
  },
  {
   "cell_type": "code",
   "execution_count": null,
   "metadata": {},
   "outputs": [],
   "source": [
    "for i in range(len(video_paths)):\n",
    "    print(f\"{i+1}, Clip Score:{CLIPscores[i]}, ground = {ground_score[i]}\")\n",
    "\n",
    "print(f\"Final average clip_score: {average_score}, Total videos: {len(CLIPscores)}\")"
   ]
  },
  {
   "cell_type": "code",
   "execution_count": null,
   "metadata": {},
   "outputs": [],
   "source": [
    "CLIPSeries = pd.Series(CLIPscores)\n",
    "\n",
    "print(f\"Spearman's : {CLIPSeries.corr(S_ground_score, method='spearman')}\")\n",
    "print(f\"Kendall's : {CLIPSeries.corr(S_ground_score, method='kendall')}\")"
   ]
  },
  {
   "cell_type": "code",
   "execution_count": null,
   "metadata": {},
   "outputs": [],
   "source": [
    "plt.scatter(CLIPSeries, S_ground_score)\n",
    "plt.plot(CLIPSeries, np.poly1d(np.polyfit(CLIPSeries, S_ground_score, 1))(CLIPSeries))\n",
    "plt.xlim(0, 1)\n",
    "plt.ylim(0, 1)\n",
    "plt.show()"
   ]
  },
  {
   "cell_type": "code",
   "execution_count": null,
   "metadata": {},
   "outputs": [],
   "source": [
    "S_scores = pd.Series(outputs)\n",
    "\n",
    "print(f\"Spearman's : {S_scores.corr(CLIPSeries, method='spearman')}\")\n",
    "print(f\"Kendall's : {S_scores.corr(CLIPSeries, method='kendall')}\")"
   ]
  },
  {
   "cell_type": "code",
   "execution_count": null,
   "metadata": {},
   "outputs": [],
   "source": [
    "plt.scatter(S_scores, CLIPSeries)\n",
    "plt.xlim(0, 1)\n",
    "plt.ylim(0, 1)\n",
    "plt.show()"
   ]
  }
 ],
 "metadata": {
  "kernelspec": {
   "display_name": "Python 3",
   "language": "python",
   "name": "python3"
  },
  "language_info": {
   "codemirror_mode": {
    "name": "ipython",
    "version": 3
   },
   "file_extension": ".py",
   "mimetype": "text/x-python",
   "name": "python",
   "nbconvert_exporter": "python",
   "pygments_lexer": "ipython3",
   "version": "3.10.11"
  }
 },
 "nbformat": 4,
 "nbformat_minor": 2
}
