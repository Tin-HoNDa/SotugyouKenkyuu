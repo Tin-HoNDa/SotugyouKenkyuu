{
 "cells": [
  {
   "cell_type": "markdown",
   "metadata": {},
   "source": [
    "# 単語埋め込み"
   ]
  },
  {
   "cell_type": "markdown",
   "metadata": {},
   "source": [
    "## Word2Vec"
   ]
  },
  {
   "cell_type": "code",
   "execution_count": 1,
   "metadata": {},
   "outputs": [
    {
     "name": "stdout",
     "output_type": "stream",
     "text": [
      "2024-02-08 16:01:25.641927\n",
      "2024-02-08 16:01:51.925640\n"
     ]
    }
   ],
   "source": [
    "import gensim.models.keyedvectors as word2vec\n",
    "from datetime import datetime\n",
    "\n",
    "def load_model():\n",
    "    print(datetime.now())\n",
    "    model = word2vec.KeyedVectors.load_word2vec_format('GoogleNews-vectors-negative300.bin', binary=True)\n",
    "    print(datetime.now())\n",
    "    return model\n",
    "\n",
    "model = load_model()"
   ]
  },
  {
   "cell_type": "code",
   "execution_count": 13,
   "metadata": {},
   "outputs": [],
   "source": [
    "import numpy as np\n",
    "\n",
    "def avg_feature_vector(sentence, model, num_features):\n",
    "    words = sentence.replace(',', '').replace('.', '').split()\n",
    "    feature_vec = np.zeros((num_features,), dtype=\"float32\")\n",
    "    miss = 0\n",
    "    for word in words:\n",
    "        try:\n",
    "            feature_vec = np.add(feature_vec, model[word])\n",
    "        except KeyError as e:\n",
    "            miss += 1\n",
    "            print(e)\n",
    "        feature_vec = np.divide(feature_vec, len(words)-miss)\n",
    "    return feature_vec"
   ]
  },
  {
   "cell_type": "code",
   "execution_count": 11,
   "metadata": {},
   "outputs": [],
   "source": [
    "from scipy import spatial\n",
    "def sentence_similarity(sentence_1, sentence_2):\n",
    "    num_features=300\n",
    "    sentence_1_avg_vector = avg_feature_vector(sentence_1, model, num_features)\n",
    "    sentence_2_avg_vector = avg_feature_vector(sentence_2, model, num_features)\n",
    "    return 1 - spatial.distance.cosine(sentence_1_avg_vector, sentence_2_avg_vector)"
   ]
  },
  {
   "cell_type": "code",
   "execution_count": 8,
   "metadata": {},
   "outputs": [
    {
     "data": {
      "text/plain": [
       "0.4087967346938004"
      ]
     },
     "execution_count": 8,
     "metadata": {},
     "output_type": "execute_result"
    }
   ],
   "source": [
    "sentence_similarity('Two white swans gracefully swam in the serene lake', 'still camera, A van parked on grass')"
   ]
  },
  {
   "cell_type": "code",
   "execution_count": 14,
   "metadata": {},
   "outputs": [
    {
     "name": "stdout",
     "output_type": "stream",
     "text": [
      "\"Key 'Pitt's' not present\"\n",
      "\"Key 'and' not present\"\n",
      "\"Key 'a' not present\"\n"
     ]
    },
    {
     "data": {
      "text/plain": [
       "-0.029863220714619443"
      ]
     },
     "execution_count": 14,
     "metadata": {},
     "output_type": "execute_result"
    }
   ],
   "source": [
    "sentence_similarity(\"Brad Pitt's furrowed brow conveys deep thought, his eyes focused and serious.\", 'unicorn sliding on a rainbow')"
   ]
  },
  {
   "cell_type": "markdown",
   "metadata": {},
   "source": [
    "## GloVe\n"
   ]
  }
 ],
 "metadata": {
  "kernelspec": {
   "display_name": "Python 3",
   "language": "python",
   "name": "python3"
  },
  "language_info": {
   "codemirror_mode": {
    "name": "ipython",
    "version": 3
   },
   "file_extension": ".py",
   "mimetype": "text/x-python",
   "name": "python",
   "nbconvert_exporter": "python",
   "pygments_lexer": "ipython3",
   "version": "3.10.11"
  }
 },
 "nbformat": 4,
 "nbformat_minor": 2
}
